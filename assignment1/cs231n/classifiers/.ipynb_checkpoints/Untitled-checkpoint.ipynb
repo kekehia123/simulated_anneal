{
 "cells": [
  {
   "cell_type": "code",
   "execution_count": 4,
   "metadata": {
    "collapsed": false
   },
   "outputs": [],
   "source": [
    "import numpy as np\n",
    "input_size = 3\n",
    "hidden_size = 10\n",
    "output_size = 5\n",
    "params = {}\n",
    "params['W1'] = 0.1 * np.random.randn(input_size, hidden_size)\n",
    "params['b1'] = np.zeros(hidden_size)\n",
    "params['W2'] = 0.1 * np.random.randn(hidden_size, output_size)\n",
    "params['b2'] = np.zeros(output_size)"
   ]
  },
  {
   "cell_type": "code",
   "execution_count": 37,
   "metadata": {
    "collapsed": false
   },
   "outputs": [
    {
     "data": {
      "text/plain": [
       "9"
      ]
     },
     "execution_count": 37,
     "metadata": {},
     "output_type": "execute_result"
    }
   ],
   "source": [
    "list(params.keys())[0]\n",
    "len(params['W2'])"
   ]
  },
  {
   "cell_type": "code",
   "execution_count": 17,
   "metadata": {
    "collapsed": false
   },
   "outputs": [
    {
     "data": {
      "text/plain": [
       "array([0., 0., 0., 0., 0., 0., 0., 0., 0., 0.])"
      ]
     },
     "execution_count": 17,
     "metadata": {},
     "output_type": "execute_result"
    }
   ],
   "source": [
    "np.reshape(params['b1'], -1)"
   ]
  },
  {
   "cell_type": "code",
   "execution_count": 28,
   "metadata": {
    "collapsed": false
   },
   "outputs": [
    {
     "data": {
      "text/plain": [
       "array([-0.05591729,  0.02421237, -0.14477177, -0.00177263, -0.01049456,\n",
       "        0.03581939, -0.05709159,  0.03711344, -0.17615154,  0.15190579,\n",
       "       -0.09812282,  0.08955229,  0.11283308, -0.10209401,  0.01899797,\n",
       "       -0.05287676,  0.00117952,  0.03910156,  0.05674136, -0.01149275,\n",
       "       -0.0554901 ,  0.14542753, -0.09270488,  0.04449651,  0.18119029,\n",
       "       -0.0763058 ,  0.11774016, -0.09928188, -0.09209005,  0.06181947,\n",
       "        0.        ,  0.        ,  0.        ,  0.        ,  0.        ,\n",
       "        0.        ,  0.        ,  0.        ,  0.        ,  0.        ,\n",
       "       -0.10048531,  0.07276974, -0.04045061,  0.07340984,  0.06674315,\n",
       "        0.09227064,  0.01946366,  0.10980874, -0.0874642 ,  0.11193494,\n",
       "        0.08371329,  0.00934142, -0.1099305 ,  0.22709343,  0.01022641,\n",
       "        0.05095709,  0.00815869, -0.13643631,  0.01447062, -0.10386816,\n",
       "       -0.0758891 ,  0.0279055 ,  0.08176671, -0.03150704,  0.00954113,\n",
       "       -0.09096609,  0.18747062,  0.1292593 , -0.09401249, -0.00252395,\n",
       "        0.13867022,  0.04960002,  0.06444574,  0.0788919 ,  0.16124323,\n",
       "       -0.09644664,  0.06855296, -0.02498239, -0.13797484, -0.00834301,\n",
       "        0.10650638, -0.0210905 , -0.01889695,  0.06267714, -0.03908808,\n",
       "       -0.00669827,  0.01851717,  0.0806837 ,  0.01848372, -0.02087255,\n",
       "        0.        ,  0.        ,  0.        ,  0.        ,  0.        ])"
      ]
     },
     "execution_count": 28,
     "metadata": {},
     "output_type": "execute_result"
    }
   ],
   "source": [
    "coefs = np.concatenate((np.reshape(params['W1'], -1), np.reshape(params['b1'], -1), \n",
    "                        np.reshape(params['W2'], -1), np.reshape(params['b2'], -1)), axis = 0)\n",
    "coefs"
   ]
  },
  {
   "cell_type": "code",
   "execution_count": null,
   "metadata": {
    "collapsed": true
   },
   "outputs": [],
   "source": []
  }
 ],
 "metadata": {
  "kernelspec": {
   "display_name": "Python [conda env:Anaconda3]",
   "language": "python",
   "name": "conda-env-Anaconda3-py"
  },
  "language_info": {
   "codemirror_mode": {
    "name": "ipython",
    "version": 3
   },
   "file_extension": ".py",
   "mimetype": "text/x-python",
   "name": "python",
   "nbconvert_exporter": "python",
   "pygments_lexer": "ipython3",
   "version": "3.5.2"
  }
 },
 "nbformat": 4,
 "nbformat_minor": 1
}
