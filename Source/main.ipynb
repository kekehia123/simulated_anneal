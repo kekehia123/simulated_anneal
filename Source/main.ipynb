{
 "cells": [
  {
   "cell_type": "code",
   "execution_count": 1,
   "metadata": {
    "collapsed": true
   },
   "outputs": [],
   "source": [
    "#Author:  SYH\n",
    "#DATE:    2018.8.30\n",
    "#TASK:    NN with SA\n",
    "\n",
    "#Restructured from CS231n assignment1\n"
   ]
  },
  {
   "cell_type": "code",
   "execution_count": 2,
   "metadata": {},
   "outputs": [],
   "source": [
    "#Setup\n",
    "\n",
    "import numpy as np\n",
    "import matplotlib.pyplot as plt\n",
    "\n",
    "from __future__ import print_function\n",
    "\n",
    "%matplotlib inline\n",
    "\n",
    "random_seed = 0\n"
   ]
  },
  {
   "cell_type": "code",
   "execution_count": 3,
   "metadata": {},
   "outputs": [
    {
     "name": "stdout",
     "output_type": "stream",
     "text": [
      "Train data shape:  (49000, 3072)\n",
      "Train labels shape:  (49000,)\n",
      "Validation data shape:  (1000, 3072)\n",
      "Validation labels shape:  (1000,)\n",
      "Test data shape:  (1000, 3072)\n",
      "Test labels shape:  (1000,)\n"
     ]
    }
   ],
   "source": [
    "from head.data_utils import load_CIFAR10\n",
    "\n",
    "\n",
    "#Load Data\n",
    "\n",
    "def get_CIFAR10_data(num_training=49000, num_validation=1000, num_test=1000):\n",
    "    \n",
    "    cifar10_dir = 'datasets/cifar-10-batches-py'\n",
    "    X_train, y_train, X_test, y_test = load_CIFAR10(cifar10_dir)\n",
    "        \n",
    "    # Subsample the data\n",
    "    mask = list(range(num_training, num_training + num_validation))\n",
    "    X_val = X_train[mask]\n",
    "    y_val = y_train[mask]\n",
    "    mask = list(range(num_training))\n",
    "    X_train = X_train[mask]\n",
    "    y_train = y_train[mask]\n",
    "    mask = list(range(num_test))\n",
    "    X_test = X_test[mask]\n",
    "    y_test = y_test[mask]\n",
    "\n",
    "    # Normalize the data: subtract the mean image\n",
    "    mean_image = np.mean(X_train, axis=0)\n",
    "    X_train -= mean_image\n",
    "    X_val -= mean_image\n",
    "    X_test -= mean_image\n",
    "\n",
    "    # Reshape data to rows\n",
    "    X_train = X_train.reshape(num_training, -1)\n",
    "    X_val = X_val.reshape(num_validation, -1)\n",
    "    X_test = X_test.reshape(num_test, -1)\n",
    "\n",
    "    return X_train, y_train, X_val, y_val, X_test, y_test\n",
    "\n",
    "\n",
    "# Invoke the above function to get our data.\n",
    "X_train, y_train, X_val, y_val, X_test, y_test = get_CIFAR10_data()\n",
    "print('Train data shape: ', X_train.shape)\n",
    "print('Train labels shape: ', y_train.shape)\n",
    "print('Validation data shape: ', X_val.shape)\n",
    "print('Validation labels shape: ', y_val.shape)\n",
    "print('Test data shape: ', X_test.shape)\n",
    "print('Test labels shape: ', y_test.shape)"
   ]
  },
  {
   "cell_type": "code",
   "execution_count": 4,
   "metadata": {
    "collapsed": true
   },
   "outputs": [],
   "source": [
    "#Network Settings\n",
    "\n",
    "input_size = 32 * 32 * 3\n",
    "hidden_size = 50\n",
    "num_classes = 10\n"
   ]
  },
  {
   "cell_type": "code",
   "execution_count": 5,
   "metadata": {},
   "outputs": [
    {
     "name": "stdout",
     "output_type": "stream",
     "text": [
      "iteration 0 / 100: loss 2.302747\n",
      "Test accuracy:  0.22\n"
     ]
    }
   ],
   "source": [
    "#Training use SGD \n",
    "#Test set accuracy around 50%\n",
    "\n",
    "from head.neural_net import TwoLayerNet\n",
    "\n",
    "np.random.seed(random_seed)\n",
    "\n",
    "#Training hyperparams\n",
    "batch_size = 236\n",
    "learning_rate = 5e-4\n",
    "reg = 0.1\n",
    "\n",
    "net_bp = TwoLayerNet(input_size, hidden_size, num_classes)\n",
    "'''stats_bp = net_bp.train_bp(X_train, y_train, X_val, y_val,\n",
    "                num_iters=3000, batch_size=batch_size,\n",
    "                learning_rate=learning_rate, learning_rate_decay=0.95,\n",
    "                reg=reg, verbose=True)\n",
    "'''\n",
    "\n",
    "#bypassing by 100 step\n",
    "stats_bp = net_bp.train_bp(X_train, y_train, X_val, y_val,\n",
    "                num_iters=100, batch_size=batch_size,\n",
    "                learning_rate=learning_rate, learning_rate_decay=0.95,\n",
    "                reg=reg, verbose=True)\n",
    "#\n",
    "\n",
    "test_acc = (net_bp.predict(X_test) == y_test).mean()\n",
    "print('Test accuracy: ', test_acc)"
   ]
  },
  {
   "cell_type": "code",
   "execution_count": 8,
   "metadata": {},
   "outputs": [
    {
     "name": "stdout",
     "output_type": "stream",
     "text": [
      "iteration 0 / 3000: loss 2.308502\n",
      "iteration 100 / 3000: loss 2.307619\n",
      "iteration 200 / 3000: loss 2.308787\n",
      "iteration 300 / 3000: loss 2.308710\n",
      "iteration 400 / 3000: loss 2.308984\n",
      "iteration 500 / 3000: loss 2.307820\n",
      "iteration 600 / 3000: loss 2.308587\n",
      "iteration 700 / 3000: loss 2.307978\n",
      "iteration 800 / 3000: loss 2.308095\n",
      "iteration 900 / 3000: loss 2.308185\n",
      "iteration 1000 / 3000: loss 2.308020\n",
      "iteration 1100 / 3000: loss 2.308231\n",
      "iteration 1200 / 3000: loss 2.307295\n",
      "iteration 1300 / 3000: loss 2.309060\n",
      "iteration 1400 / 3000: loss 2.308005\n",
      "iteration 1500 / 3000: loss 2.307017\n",
      "iteration 1600 / 3000: loss 2.308115\n",
      "iteration 1700 / 3000: loss 2.308086\n",
      "iteration 1800 / 3000: loss 2.307771\n",
      "iteration 1900 / 3000: loss 2.307306\n",
      "iteration 2000 / 3000: loss 2.308011\n",
      "iteration 2100 / 3000: loss 2.306708\n",
      "iteration 2200 / 3000: loss 2.307920\n",
      "iteration 2300 / 3000: loss 2.307640\n",
      "iteration 2400 / 3000: loss 2.307641\n",
      "iteration 2500 / 3000: loss 2.307874\n",
      "iteration 2600 / 3000: loss 2.307723\n",
      "iteration 2700 / 3000: loss 2.307308\n",
      "iteration 2800 / 3000: loss 2.307989\n",
      "iteration 2900 / 3000: loss 2.307839\n",
      "Test accuracy:  0.116\n"
     ]
    }
   ],
   "source": [
    "#Training use SA\n",
    "\n",
    "from head.neural_net import TwoLayerNet\n",
    "\n",
    "np.random.seed(0)\n",
    "\n",
    "#Training hyperparameters\n",
    "batch_size = 200\n",
    "step_len = 0.001\n",
    "reg = 0.1\n",
    "\n",
    "net_sa = TwoLayerNet(input_size, hidden_size, num_classes)\n",
    "stats_sa = net_sa.train_sa(X_train, y_train, X_val, y_val,\n",
    "        num_iters=3000, batch_size=batch_size, step_len = step_len,\n",
    "        reg=reg, verbose=True)\n",
    "\n",
    "test_acc = (net_sa.predict(X_test) == y_test).mean()\n",
    "print('Test accuracy: ', test_acc)"
   ]
  },
  {
   "cell_type": "code",
   "execution_count": null,
   "metadata": {},
   "outputs": [],
   "source": []
  },
  {
   "cell_type": "code",
   "execution_count": null,
   "metadata": {
    "collapsed": true
   },
   "outputs": [],
   "source": []
  }
 ],
 "metadata": {
  "kernelspec": {
   "display_name": "Python 3",
   "language": "python",
   "name": "python3"
  }
 },
 "nbformat": 4,
 "nbformat_minor": 2
}
